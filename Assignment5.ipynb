{
 "cells": [
  {
   "cell_type": "code",
   "execution_count": 1,
   "metadata": {},
   "outputs": [],
   "source": [
    "import pandas as pd\n",
    "import numpy as np\n",
    "import nltk\n",
    "from nltk.tokenize import sent_tokenize,word_tokenize\n",
    "import re\n",
    "import gensim\n",
    "from gensim.models import Word2Vec\n",
    "import bs4 as bs\n",
    "import warnings\n",
    "warnings.filterwarnings(action='ignore')"
   ]
  },
  {
   "cell_type": "code",
   "execution_count": 3,
   "metadata": {},
   "outputs": [
    {
     "name": "stderr",
     "output_type": "stream",
     "text": [
      "[nltk_data] Downloading package punkt to\n",
      "[nltk_data]     C:\\Users\\ameya\\AppData\\Roaming\\nltk_data...\n",
      "[nltk_data]   Package punkt is already up-to-date!\n",
      "[nltk_data] Downloading package stopwords to\n",
      "[nltk_data]     C:\\Users\\ameya\\AppData\\Roaming\\nltk_data...\n",
      "[nltk_data]   Package stopwords is already up-to-date!\n"
     ]
    },
    {
     "data": {
      "text/plain": [
       "True"
      ]
     },
     "execution_count": 3,
     "metadata": {},
     "output_type": "execute_result"
    }
   ],
   "source": [
    "nltk.download('punkt')\n",
    "nltk.download('stopwords')"
   ]
  },
  {
   "cell_type": "code",
   "execution_count": 18,
   "metadata": {},
   "outputs": [
    {
     "data": {
      "text/plain": [
       "\"Virat$$ Kohli is a world-famous Indian cricketer with fans all around the world. He has a great and inspiring personality..! Born on 5th November 1988 in Delhi's Uttam Nagar, Virat Kohli has come a long way. He started playing cricket in his school and ended up playing for the Under-19 Indian cricket team.\""
      ]
     },
     "execution_count": 18,
     "metadata": {},
     "output_type": "execute_result"
    }
   ],
   "source": [
    "senetences = '''Virat$$ Kohli is a world-famous Indian cricketer with fans all around the world. He has a great and inspiring personality..! Born on 5th November 1988 in Delhi's Uttam Nagar, Virat Kohli has come a long way. He started playing cricket in his school and ended up playing for the Under-19 Indian cricket team.'''\n",
    "senetences"
   ]
  },
  {
   "cell_type": "code",
   "execution_count": 19,
   "metadata": {},
   "outputs": [
    {
     "name": "stdout",
     "output_type": "stream",
     "text": [
      "Virat Kohli is world famous Indian cricketer with fans all around the world He has great and inspiring personality Born on 5th November 1988 in Delhi Uttam Nagar Virat Kohli has come long way He started playing cricket in his school and ended up playing for the Under 19 Indian cricket team\n"
     ]
    }
   ],
   "source": [
    "# Remove single character word\n",
    "senetences = re.sub('[^A-Za-z0-9]+',' ',senetences)\n",
    "\n",
    "# Remove Special Characters\n",
    "senetences = re.sub(r'(?:^| )\\w(?:$| )',' ',senetences).strip()\n",
    "print(senetences)"
   ]
  },
  {
   "cell_type": "code",
   "execution_count": 6,
   "metadata": {},
   "outputs": [
    {
     "data": {
      "text/plain": [
       "'virat kohli is world famous indian cricketer with fans all around the world he has great and inspiring personality born on 5th november 1988 in delhi uttam nagar virat kohli has come long way he started playing cricket in his school and ended up playing for the under 19 indian cricket team'"
      ]
     },
     "execution_count": 6,
     "metadata": {},
     "output_type": "execute_result"
    }
   ],
   "source": [
    "senetences = senetences.lower()\n",
    "senetences"
   ]
  },
  {
   "cell_type": "code",
   "execution_count": 7,
   "metadata": {},
   "outputs": [
    {
     "data": {
      "text/plain": [
       "['virat kohli is world famous indian cricketer with fans all around the world he has great and inspiring personality born on 5th november 1988 in delhi uttam nagar virat kohli has come long way he started playing cricket in his school and ended up playing for the under 19 indian cricket team']"
      ]
     },
     "execution_count": 7,
     "metadata": {},
     "output_type": "execute_result"
    }
   ],
   "source": [
    "all_sent = nltk.sent_tokenize(senetences)\n",
    "all_sent"
   ]
  },
  {
   "cell_type": "code",
   "execution_count": 8,
   "metadata": {},
   "outputs": [
    {
     "data": {
      "text/plain": [
       "[['virat',\n",
       "  'kohli',\n",
       "  'is',\n",
       "  'world',\n",
       "  'famous',\n",
       "  'indian',\n",
       "  'cricketer',\n",
       "  'with',\n",
       "  'fans',\n",
       "  'all',\n",
       "  'around',\n",
       "  'the',\n",
       "  'world',\n",
       "  'he',\n",
       "  'has',\n",
       "  'great',\n",
       "  'and',\n",
       "  'inspiring',\n",
       "  'personality',\n",
       "  'born',\n",
       "  'on',\n",
       "  '5th',\n",
       "  'november',\n",
       "  '1988',\n",
       "  'in',\n",
       "  'delhi',\n",
       "  'uttam',\n",
       "  'nagar',\n",
       "  'virat',\n",
       "  'kohli',\n",
       "  'has',\n",
       "  'come',\n",
       "  'long',\n",
       "  'way',\n",
       "  'he',\n",
       "  'started',\n",
       "  'playing',\n",
       "  'cricket',\n",
       "  'in',\n",
       "  'his',\n",
       "  'school',\n",
       "  'and',\n",
       "  'ended',\n",
       "  'up',\n",
       "  'playing',\n",
       "  'for',\n",
       "  'the',\n",
       "  'under',\n",
       "  '19',\n",
       "  'indian',\n",
       "  'cricket',\n",
       "  'team']]"
      ]
     },
     "execution_count": 8,
     "metadata": {},
     "output_type": "execute_result"
    }
   ],
   "source": [
    "all_words = [nltk.word_tokenize(sent) for sent in all_sent]\n",
    "all_words"
   ]
  },
  {
   "cell_type": "code",
   "execution_count": 9,
   "metadata": {},
   "outputs": [
    {
     "data": {
      "text/plain": [
       "[['virat',\n",
       "  'kohli',\n",
       "  'world',\n",
       "  'famous',\n",
       "  'indian',\n",
       "  'cricketer',\n",
       "  'fans',\n",
       "  'around',\n",
       "  'world',\n",
       "  'great',\n",
       "  'inspiring',\n",
       "  'personality',\n",
       "  'born',\n",
       "  '5th',\n",
       "  'november',\n",
       "  '1988',\n",
       "  'delhi',\n",
       "  'uttam',\n",
       "  'nagar',\n",
       "  'virat',\n",
       "  'kohli',\n",
       "  'come',\n",
       "  'long',\n",
       "  'way',\n",
       "  'started',\n",
       "  'playing',\n",
       "  'cricket',\n",
       "  'school',\n",
       "  'ended',\n",
       "  'playing',\n",
       "  '19',\n",
       "  'indian',\n",
       "  'cricket',\n",
       "  'team']]"
      ]
     },
     "execution_count": 9,
     "metadata": {},
     "output_type": "execute_result"
    }
   ],
   "source": [
    "# Removing Stopwords\n",
    "from nltk.corpus import stopwords\n",
    "\n",
    "for i in range(len(all_words)):\n",
    "    all_words[i] = [w for w in all_words[i] if w not in stopwords.words('english')]\n",
    "\n",
    "data = all_words\n",
    "data"
   ]
  },
  {
   "cell_type": "code",
   "execution_count": 10,
   "metadata": {},
   "outputs": [],
   "source": [
    "# Train the model using Gensim\n",
    "model1 = gensim.models.Word2Vec(data,min_count = 1,window=6)"
   ]
  },
  {
   "cell_type": "code",
   "execution_count": 21,
   "metadata": {},
   "outputs": [
    {
     "name": "stdout",
     "output_type": "stream",
     "text": [
      "('november', 0.2860722243785858)\n",
      "('world', 0.19941556453704834)\n",
      "('uttam', 0.09701544046401978)\n",
      "('cricket', 0.07571477442979813)\n",
      "('indian', 0.06124803423881531)\n",
      "('fans', 0.044550735503435135)\n",
      "('great', 0.03800227865576744)\n",
      "('ended', 0.03521474078297615)\n",
      "('kohli', 0.03442461043596268)\n",
      "('virat', 0.027269380167126656)\n"
     ]
    }
   ],
   "source": [
    "# Finding similar word given to word\n",
    "wrd = 'cricketer'\n",
    "v1 = model1.wv[wrd]\n",
    "similar_words = model1.wv.most_similar(wrd)\n",
    "\n",
    "for x in similar_words:\n",
    "    print(x)"
   ]
  },
  {
   "cell_type": "code",
   "execution_count": 22,
   "metadata": {},
   "outputs": [
    {
     "name": "stdout",
     "output_type": "stream",
     "text": [
      "['virat', 'kohli', 'world', 'famous', 'indian', 'cricketer', 'fans', 'around', 'world', 'great', 'inspiring', 'personality', 'born', '5th', 'november', '1988', 'delhi', 'uttam', 'nagar', 'virat', 'kohli', 'come', 'long', 'way', 'started', 'playing', 'cricket', 'school', 'ended', 'playing', '19', 'indian', 'cricket', 'team']\n"
     ]
    }
   ],
   "source": [
    "data1 = data[0]\n",
    "print(data1)"
   ]
  },
  {
   "cell_type": "code",
   "execution_count": 23,
   "metadata": {},
   "outputs": [
    {
     "name": "stdout",
     "output_type": "stream",
     "text": [
      "[(['virat', 'kohli', 'famous', 'indian'], 'world'), (['kohli', 'world', 'indian', 'cricketer'], 'famous'), (['world', 'famous', 'cricketer', 'fans'], 'indian'), (['famous', 'indian', 'fans', 'around'], 'cricketer'), (['indian', 'cricketer', 'around', 'world'], 'fans'), (['cricketer', 'fans', 'world', 'great'], 'around'), (['fans', 'around', 'great', 'inspiring'], 'world'), (['around', 'world', 'inspiring', 'personality'], 'great'), (['world', 'great', 'personality', 'born'], 'inspiring'), (['great', 'inspiring', 'born', '5th'], 'personality'), (['inspiring', 'personality', '5th', 'november'], 'born'), (['personality', 'born', 'november', '1988'], '5th'), (['born', '5th', '1988', 'delhi'], 'november'), (['5th', 'november', 'delhi', 'uttam'], '1988'), (['november', '1988', 'uttam', 'nagar'], 'delhi'), (['1988', 'delhi', 'nagar', 'virat'], 'uttam'), (['delhi', 'uttam', 'virat', 'kohli'], 'nagar'), (['uttam', 'nagar', 'kohli', 'come'], 'virat'), (['nagar', 'virat', 'come', 'long'], 'kohli'), (['virat', 'kohli', 'long', 'way'], 'come'), (['kohli', 'come', 'way', 'started'], 'long'), (['come', 'long', 'started', 'playing'], 'way'), (['long', 'way', 'playing', 'cricket'], 'started'), (['way', 'started', 'cricket', 'school'], 'playing'), (['started', 'playing', 'school', 'ended'], 'cricket'), (['playing', 'cricket', 'ended', 'playing'], 'school'), (['cricket', 'school', 'playing', '19'], 'ended'), (['school', 'ended', '19', 'indian'], 'playing'), (['ended', 'playing', 'indian', 'cricket'], '19'), (['playing', '19', 'cricket', 'team'], 'indian')]\n"
     ]
    }
   ],
   "source": [
    "# Preparing list of context words\n",
    "\n",
    "dat = []\n",
    "for i in range(2,len(data1) - 2):\n",
    "    context = [data1[i-2],data1[i-1],data1[i+1],data1[i+2]]\n",
    "    target = data1[i]\n",
    "    dat.append((context,target))\n",
    "\n",
    "print(dat)"
   ]
  },
  {
   "cell_type": "code",
   "execution_count": 24,
   "metadata": {},
   "outputs": [
    {
     "name": "stdout",
     "output_type": "stream",
     "text": [
      "['famous', 'indian', 'fans', 'around'] cricketer\n",
      "[('november', 0.03571453), ('great', 0.035714503), ('cricketer', 0.03571448), ('around', 0.035714425), ('nagar', 0.035714425), ('19', 0.035714425), ('famous', 0.03571442), ('born', 0.035714414), ('uttam', 0.03571441), ('fans', 0.035714407)]\n"
     ]
    }
   ],
   "source": [
    "# Predicting the current word from the context words\n",
    "\n",
    "i = 3\n",
    "print(dat[i][0],dat[i][1])\n",
    "print(model1.predict_output_word(dat[i][0]))"
   ]
  }
 ],
 "metadata": {
  "kernelspec": {
   "display_name": "Python 3",
   "language": "python",
   "name": "python3"
  },
  "language_info": {
   "codemirror_mode": {
    "name": "ipython",
    "version": 3
   },
   "file_extension": ".py",
   "mimetype": "text/x-python",
   "name": "python",
   "nbconvert_exporter": "python",
   "pygments_lexer": "ipython3",
   "version": "3.9.6"
  },
  "orig_nbformat": 4,
  "vscode": {
   "interpreter": {
    "hash": "81794d4967e6c3204c66dcd87b604927b115b27c00565d3d43f05ba2f3a2cb0d"
   }
  }
 },
 "nbformat": 4,
 "nbformat_minor": 2
}
